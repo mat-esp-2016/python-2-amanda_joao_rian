{
 "cells": [
  {
   "cell_type": "markdown",
   "metadata": {},
   "source": [
    "# Bibliotecas:"
   ]
  },
  {
   "cell_type": "code",
   "execution_count": 10,
   "metadata": {
    "collapsed": true
   },
   "outputs": [],
   "source": [
    "import numpy as np"
   ]
  },
  {
   "cell_type": "code",
   "execution_count": 11,
   "metadata": {
    "collapsed": true
   },
   "outputs": [],
   "source": [
    "import matplotlib.pyplot as plt"
   ]
  },
  {
   "cell_type": "code",
   "execution_count": 12,
   "metadata": {
    "collapsed": true
   },
   "outputs": [],
   "source": [
    "import matplotlib.patches as mpatches"
   ]
  },
  {
   "cell_type": "code",
   "execution_count": 13,
   "metadata": {
    "collapsed": true
   },
   "outputs": [],
   "source": [
    "%matplotlib inline"
   ]
  },
  {
   "cell_type": "markdown",
   "metadata": {},
   "source": [
    "# Gráficos da anomalia de temperatura anual para cada arquivo da pasta dados referente a uma cidade:"
   ]
  },
  {
   "cell_type": "code",
   "execution_count": 14,
   "metadata": {
    "collapsed": true
   },
   "outputs": [],
   "source": [
    "import glob"
   ]
  },
  {
   "cell_type": "code",
   "execution_count": 24,
   "metadata": {
    "collapsed": false
   },
   "outputs": [],
   "source": [
    "arquivos = glob.glob(\"dados/*W-TAVG-Trend.txt\")"
   ]
  },
  {
   "cell_type": "code",
   "execution_count": 25,
   "metadata": {
    "collapsed": false
   },
   "outputs": [
    {
     "name": "stdout",
     "output_type": "stream",
     "text": [
      "['dados\\\\0.80S-49.02W-TAVG-Trend.txt', 'dados\\\\10.45S-48.27W-TAVG-Trend.txt', 'dados\\\\13.66S-38.81W-TAVG-Trend.txt', 'dados\\\\15.27S-47.50W-TAVG-Trend.txt', 'dados\\\\2.41S-60.27W-TAVG-Trend.txt', 'dados\\\\20.09S-44.36W-TAVG-Trend.txt', 'dados\\\\20.09S-54.60W-TAVG-Trend.txt', 'dados\\\\23.31S-42.82W-TAVG-Trend.txt', 'dados\\\\23.31S-46.31W-TAVG-Trend.txt', 'dados\\\\24.92S-49.66W-TAVG-Trend.txt', 'dados\\\\29.74S-51.69W-TAVG-Trend.txt', 'dados\\\\4.02S-40.98W-TAVG-Trend.txt']\n"
     ]
    }
   ],
   "source": [
    "print(arquivos)"
   ]
  },
  {
   "cell_type": "code",
   "execution_count": 26,
   "metadata": {
    "collapsed": false,
    "scrolled": true
   },
   "outputs": [
    {
     "name": "stdout",
     "output_type": "stream",
     "text": [
      "dados\\0.80S-49.02W-TAVG-Trend.txt\n",
      "dados\\10.45S-48.27W-TAVG-Trend.txt\n",
      "dados\\13.66S-38.81W-TAVG-Trend.txt\n",
      "dados\\15.27S-47.50W-TAVG-Trend.txt\n",
      "dados\\2.41S-60.27W-TAVG-Trend.txt\n",
      "dados\\20.09S-44.36W-TAVG-Trend.txt\n",
      "dados\\20.09S-54.60W-TAVG-Trend.txt\n",
      "dados\\23.31S-42.82W-TAVG-Trend.txt\n",
      "dados\\23.31S-46.31W-TAVG-Trend.txt\n",
      "dados\\24.92S-49.66W-TAVG-Trend.txt\n",
      "dados\\29.74S-51.69W-TAVG-Trend.txt\n",
      "dados\\4.02S-40.98W-TAVG-Trend.txt\n"
     ]
    }
   ],
   "source": [
    "for arquivo in arquivos:\n",
    "    print(arquivo)"
   ]
  },
  {
   "cell_type": "markdown",
   "metadata": {},
   "source": [
    " para cada arquivo em cidades: \n",
    "     carrego o arquivo \n",
    "     faço as contas e \n",
    "     o gráfico"
   ]
  },
  {
   "cell_type": "code",
   "execution_count": 29,
   "metadata": {
    "collapsed": false
   },
   "outputs": [
    {
     "name": "stdout",
     "output_type": "stream",
     "text": [
      "-0.198450823764\n",
      "-0.196651727358\n",
      "-0.219442898273\n",
      "-0.184439539347\n",
      "-0.232451267057\n",
      "-0.188642994242\n",
      "-0.165798464491\n",
      "-0.227940978887\n",
      "-0.20556621881\n",
      "-0.199133877159\n",
      "-0.216974568138\n",
      "-0.0698032786885\n"
     ]
    }
   ],
   "source": [
    "for arquivo in arquivos:\n",
    "    dados = np.loadtxt (arquivo, comments='%')\n",
    "    anos = dados [:, 0]\n",
    "    meses = dados[:, 1]\n",
    "    ano_em_decimal = (meses-1)/12 + anos\n",
    "    anomalia_anual = dados [:, 4] \n",
    "    print( np.nanmean (anomalia_anual))\n",
    "   "
   ]
  },
  {
   "cell_type": "code",
   "execution_count": null,
   "metadata": {
    "collapsed": true
   },
   "outputs": [],
   "source": []
  }
 ],
 "metadata": {
  "kernelspec": {
   "display_name": "Python [Root]",
   "language": "python",
   "name": "Python [Root]"
  },
  "language_info": {
   "codemirror_mode": {
    "name": "ipython",
    "version": 3
   },
   "file_extension": ".py",
   "mimetype": "text/x-python",
   "name": "python",
   "nbconvert_exporter": "python",
   "pygments_lexer": "ipython3",
   "version": "3.5.2"
  }
 },
 "nbformat": 4,
 "nbformat_minor": 0
}
